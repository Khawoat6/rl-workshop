{
 "cells": [
  {
   "cell_type": "markdown",
   "metadata": {},
   "source": [
    "# Session 1: Discrete States and Actions"
   ]
  },
  {
   "cell_type": "markdown",
   "metadata": {},
   "source": [
    "## Imports"
   ]
  },
  {
   "cell_type": "code",
   "execution_count": 28,
   "metadata": {},
   "outputs": [],
   "source": [
    "import numpy as np\n",
    "from collections import defaultdict\n",
    "import matplotlib.pyplot as plt\n",
    "#complete these scripts during session / as homework\n",
    "from answers.environments import Gridworld\n",
    "from answers.agents import MCAgent\n",
    "#cross check when you finish\n",
    "# from solutions.environments import Gridworld\n",
    "# from solutions.agents import MCAgent"
   ]
  },
  {
   "cell_type": "markdown",
   "metadata": {},
   "source": [
    "## Reinforcement Learning Framework"
   ]
  },
  {
   "cell_type": "markdown",
   "metadata": {},
   "source": [
    "Reinforcement learning formulates interaction between an **agent** and its **environment** as **Markov decision processes**. For a given **state**, an agent takes an **action** based on the current **state**. In response to that action at that state, the agent will then get some **reward** from the environment, and that state changes to the next one.\n",
    "\n",
    "$S_0 \\rightarrow A_0 \\rightarrow R_1 \\rightarrow S_1 \\rightarrow A_1 \\rightarrow R_2 \\rightarrow S_2 \\rightarrow ... \\rightarrow S_{t-1} \\rightarrow A_{t-1} \\rightarrow R_t \\rightarrow S_{t}$\n",
    "\n",
    "where $t$ is the last time step and $S_t$ is the **terminal state** meaning an **episode** of the interactions ended. RL problems that have an end are called **episodic tasks** and those that do not are called **continuous tasks**."
   ]
  },
  {
   "cell_type": "markdown",
   "metadata": {},
   "source": [
    "![RL Framework](img/rl_framework.png)\n",
    "Source: [Sutton and Barto](https://cdn.preterhuman.net/texts/science_and_technology/artificial_intelligence/Reinforcement%20Learning%20%20An%20Introduction%20-%20Richard%20S.%20Sutton%20,%20Andrew%20G.%20Barto.pdf)"
   ]
  },
  {
   "cell_type": "markdown",
   "metadata": {},
   "source": [
    "### Example\n",
    "\n",
    "* Walking robots\n",
    "    * Environment: sidewalks\n",
    "    * Agent: a robot\n",
    "    * States: positions, velocities and accelerations of body parts\n",
    "    * Actions: move arms, legs, various joints in the body\n",
    "    * Rewards: fall or not\n",
    "    * Episodes: seconds, miliseconds until fall\n",
    "* Ads bidding\n",
    "    * Environment: Google Adwords\n",
    "    * Agent: an ecommerce company\n",
    "    * States: campaign impressions, clicks, purchases\n",
    "    * Actions: adjust bid prices and budget\n",
    "    * Rewards: conversion rates, cost of new customer acquisitions\n",
    "    * Episodes: daily or hourly until campaign ends\n",
    "* Retail stock trading\n",
    "    * Environment: the stock market\n",
    "    * Agent: a retail investor who cannot influence market prices\n",
    "    * States: market prices, volumes, and other indicators\n",
    "    * Actions: buy, hold, sell\n",
    "    * Rewards: returns, returns adjusted by volatility, and so on\n",
    "    * Episodes: daily, hourly, every second until we are extremely rich or broke\n",
    "    \n",
    "**In-class Assigment** Come up with one or more scenarios that you think could be framed as a reinforcement learning problem and list their elements like the example above."
   ]
  },
  {
   "cell_type": "markdown",
   "metadata": {},
   "source": [
    "## Markov Property - One-step Dynamics"
   ]
  },
  {
   "cell_type": "markdown",
   "metadata": {},
   "source": [
    "One of the most fundamental assumptions of many reinforcement learning algorithms is that the interactions of the world has **Markov property**. That is, the transitions between states only depend on the current state and action, and not the history of transitions formulated as:\n",
    "\n",
    "$$P(s_{t+1},r_{t+1}|s_t,a_t,r_t,s_{t-1},a_{t-1},...,r_1,s_0,a_0) = P(s_{t+1},r_{t+1}|s_t,a_t)$$\n",
    "\n",
    "This can be seen as unrealistic as we intuitively use cues from a history of transitions to choose our actions in real life but as you will learn its simplicity has merits in terms of reduced complexity in real-world applications and we can incorporate long-term goals into reinforcement learning. In fact, long-term goals are one of the most important research area in reinforcement learning today."
   ]
  },
  {
   "cell_type": "markdown",
   "metadata": {},
   "source": [
    "## Environment - Gridworld"
   ]
  },
  {
   "cell_type": "markdown",
   "metadata": {},
   "source": [
    "### What The Gridworld Looks Like"
   ]
  },
  {
   "cell_type": "code",
   "execution_count": 2,
   "metadata": {},
   "outputs": [
    {
     "name": "stdout",
     "output_type": "stream",
     "text": [
      "\n",
      "------------------------------------\n",
      "['F', 'o'] |['T', 'x'] |['G', 'x'] |\n",
      "------------------------------------\n",
      "['F', 'x'] |['F', 'x'] |['F', 'x'] |\n",
      "------------------------------------\n",
      "['F', 'x'] |['F', 'x'] |['F', 'x'] |"
     ]
    }
   ],
   "source": [
    "env = Gridworld()\n",
    "env.print_physical(visible_only=False)"
   ]
  },
  {
   "cell_type": "markdown",
   "metadata": {},
   "source": [
    "### States"
   ]
  },
  {
   "cell_type": "code",
   "execution_count": 3,
   "metadata": {},
   "outputs": [
    {
     "data": {
      "text/plain": [
       "[(0, 0), (0, 1), (0, 2), (1, 0), (1, 1), (1, 2), (2, 0), (2, 1), (2, 2)]"
      ]
     },
     "execution_count": 3,
     "metadata": {},
     "output_type": "execute_result"
    }
   ],
   "source": [
    "env.state_space"
   ]
  },
  {
   "cell_type": "markdown",
   "metadata": {},
   "source": [
    "### Actions"
   ]
  },
  {
   "cell_type": "code",
   "execution_count": 4,
   "metadata": {},
   "outputs": [
    {
     "data": {
      "text/plain": [
       "(array([0, 1, 2, 3]), array(['U', 'L', 'D', 'R'], dtype='<U1'))"
      ]
     },
     "execution_count": 4,
     "metadata": {},
     "output_type": "execute_result"
    }
   ],
   "source": [
    "env.action_space, env.action_text"
   ]
  },
  {
   "cell_type": "markdown",
   "metadata": {},
   "source": [
    "### Rewards"
   ]
  },
  {
   "cell_type": "code",
   "execution_count": 5,
   "metadata": {},
   "outputs": [
    {
     "name": "stdout",
     "output_type": "stream",
     "text": [
      "\n",
      "----------\n",
      "0 |-5 |5 |\n",
      "----------\n",
      "0 |0 |0 |\n",
      "----------\n",
      "0 |0 |0 |"
     ]
    }
   ],
   "source": [
    "env.print_reward()"
   ]
  },
  {
   "cell_type": "code",
   "execution_count": 6,
   "metadata": {},
   "outputs": [
    {
     "data": {
      "text/plain": [
       "-1"
      ]
     },
     "execution_count": 6,
     "metadata": {},
     "output_type": "execute_result"
    }
   ],
   "source": [
    "env.move_reward"
   ]
  },
  {
   "cell_type": "markdown",
   "metadata": {},
   "source": [
    "### What The Agent Usually Sees"
   ]
  },
  {
   "cell_type": "code",
   "execution_count": 7,
   "metadata": {},
   "outputs": [
    {
     "name": "stdout",
     "output_type": "stream",
     "text": [
      "\n",
      "------------------------------------\n",
      "['F', 'o'] |['NA', 'NA'] |['NA', 'NA'] |\n",
      "------------------------------------\n",
      "['NA', 'NA'] |['NA', 'NA'] |['NA', 'NA'] |\n",
      "------------------------------------\n",
      "['NA', 'NA'] |['NA', 'NA'] |['NA', 'NA'] |"
     ]
    }
   ],
   "source": [
    "env.print_physical(visible_only=True)"
   ]
  },
  {
   "cell_type": "code",
   "execution_count": 8,
   "metadata": {},
   "outputs": [
    {
     "name": "stdout",
     "output_type": "stream",
     "text": [
      "((1, 0), -1, False)\n",
      "((1, 1), -1, False)\n",
      "\n",
      "------------------------------------\n",
      "['F', 'x'] |['NA', 'NA'] |['NA', 'NA'] |\n",
      "------------------------------------\n",
      "['F', 'x'] |['F', 'o'] |['NA', 'NA'] |\n",
      "------------------------------------\n",
      "['NA', 'NA'] |['NA', 'NA'] |['NA', 'NA'] |"
     ]
    }
   ],
   "source": [
    "#go down\n",
    "action = np.argwhere(env.action_text=='D')\n",
    "print(env.step(action))\n",
    "#then right\n",
    "action = np.argwhere(env.action_text=='R')\n",
    "print(env.step(action))\n",
    "env.print_physical(visible_only=True)"
   ]
  },
  {
   "cell_type": "markdown",
   "metadata": {},
   "source": [
    "### Deterministic Environment vs Stochastic Environment"
   ]
  },
  {
   "cell_type": "code",
   "execution_count": 9,
   "metadata": {},
   "outputs": [
    {
     "name": "stdout",
     "output_type": "stream",
     "text": [
      "((1, 0), -1, False)\n",
      "((1, 1), -1, False)\n",
      "\n",
      "------------------------------------\n",
      "['F', 'x'] |['NA', 'NA'] |['NA', 'NA'] |\n",
      "------------------------------------\n",
      "['F', 'x'] |['F', 'o'] |['NA', 'NA'] |\n",
      "------------------------------------\n",
      "['NA', 'NA'] |['NA', 'NA'] |['NA', 'NA'] |"
     ]
    }
   ],
   "source": [
    "env = Gridworld(wind_p=0.5)\n",
    "#go down\n",
    "action = np.argwhere(env.action_text=='D')\n",
    "print(env.step(action))\n",
    "#then right\n",
    "action = np.argwhere(env.action_text=='R')\n",
    "print(env.step(action))\n",
    "env.print_physical(visible_only=True)"
   ]
  },
  {
   "cell_type": "markdown",
   "metadata": {},
   "source": [
    "## Agent"
   ]
  },
  {
   "cell_type": "markdown",
   "metadata": {},
   "source": [
    "### Deterministic Policy"
   ]
  },
  {
   "cell_type": "markdown",
   "metadata": {},
   "source": [
    "$\\pi(s) \\in \\mathcal{A}(s)$ for all $s \\in \\mathcal{S}$"
   ]
  },
  {
   "cell_type": "code",
   "execution_count": 10,
   "metadata": {},
   "outputs": [
    {
     "name": "stdout",
     "output_type": "stream",
     "text": [
      "Reward Grid\n",
      "\n",
      "----------\n",
      "0 |-5 |5 |\n",
      "----------\n",
      "0 |0 |0 |\n",
      "----------\n",
      "0 |0 |0 |\n",
      "\n",
      "Policy A: Reach Goal ASAP\n",
      "\n",
      "----------\n",
      "R |R |U |\n",
      "----------\n",
      "R |R |U |\n",
      "----------\n",
      "R |U |U |\n",
      "\n",
      "Policy B: Avoid Trap\n",
      "\n",
      "----------\n",
      "D |R |U |\n",
      "----------\n",
      "D |D |U |\n",
      "----------\n",
      "R |R |U |"
     ]
    }
   ],
   "source": [
    "#deterministic env\n",
    "env = Gridworld(wind_p=0.)\n",
    "#deterministic policy\n",
    "policy_a = {(0, 0): 3,\n",
    "          (0, 1): 3,\n",
    "          (0, 2): 0,\n",
    "          (1, 0): 3,\n",
    "          (1, 1): 3,\n",
    "          (1, 2): 0,\n",
    "          (2, 0): 3,\n",
    "          (2, 1): 0,\n",
    "          (2, 2): 0}\n",
    "policy_b = {(0, 0): 2,\n",
    "          (0, 1): 3,\n",
    "          (0, 2): 0,\n",
    "          (1, 0): 2,\n",
    "          (1, 1): 2,\n",
    "          (1, 2): 0,\n",
    "          (2, 0): 3,\n",
    "          (2, 1): 3,\n",
    "          (2, 2): 0}\n",
    "\n",
    "#peek\n",
    "print('Reward Grid')\n",
    "env.print_reward()\n",
    "print('\\n')\n",
    "a = MCAgent(env,policy_a)\n",
    "print('Policy A: Reach Goal ASAP')\n",
    "a.print_policy()\n",
    "print('\\n')\n",
    "print('Policy B: Avoid Trap')\n",
    "a.policy = policy_b\n",
    "a.print_policy()"
   ]
  },
  {
   "cell_type": "markdown",
   "metadata": {},
   "source": [
    "### Stochastic Policy - Epsilon Greedy"
   ]
  },
  {
   "cell_type": "markdown",
   "metadata": {},
   "source": [
    "$\\pi(a|s) = \\mathbb{P}(A_t=a|S_t=s)$ for all $s \\in \\mathcal{S}$ and $a \\in \\mathcal{A}(s)$"
   ]
  },
  {
   "cell_type": "code",
   "execution_count": 11,
   "metadata": {},
   "outputs": [
    {
     "name": "stdout",
     "output_type": "stream",
     "text": [
      "Preferred action for (0, 0) is 2\n",
      "At epsilon 0.5, we get:\n"
     ]
    },
    {
     "data": {
      "text/plain": [
       "<a list of 10 Patch objects>"
      ]
     },
     "execution_count": 11,
     "metadata": {},
     "output_type": "execute_result"
    },
    {
     "data": {
      "image/png": "[encoded data removed]",
      "text/plain": [
       "<Figure size 432x288 with 1 Axes>"
      ]
     },
     "metadata": {},
     "output_type": "display_data"
    }
   ],
   "source": [
    "state = (0,0)\n",
    "print(f'Preferred action for {state} is {a.policy[state]}')\n",
    "print('At epsilon 0.5, we get:')\n",
    "actions = np.array([a.select_action(state,epsilon=0.5) for i in range(10000)])\n",
    "plt.hist(actions)[2]"
   ]
  },
  {
   "cell_type": "code",
   "execution_count": 12,
   "metadata": {},
   "outputs": [],
   "source": [
    "#epsilon decaying \n",
    "a = MCAgent(env,policy_a,start_epsilon=0.9,end_epsilon=0.1,epsilon_decay=0.9)"
   ]
  },
  {
   "cell_type": "code",
   "execution_count": 13,
   "metadata": {},
   "outputs": [
    {
     "data": {
      "text/plain": [
       "[<matplotlib.lines.Line2D at 0x7f492fd704e0>]"
      ]
     },
     "execution_count": 13,
     "metadata": {},
     "output_type": "execute_result"
    },
    {
     "data": {
      "image/png": "[encoded data removed]",
      "text/plain": [
       "<Figure size 432x288 with 1 Axes>"
      ]
     },
     "metadata": {},
     "output_type": "display_data"
    }
   ],
   "source": [
    "eps = np.array([a.get_epsilon(i) for i in range(100)])\n",
    "plt.plot(eps)"
   ]
  },
  {
   "cell_type": "markdown",
   "metadata": {},
   "source": [
    "### State Value"
   ]
  },
  {
   "cell_type": "markdown",
   "metadata": {},
   "source": [
    "$v_\\pi(s) = \\sum_{a \\in \\mathcal{A}(s)}\\pi(a|s)\\sum_{s' \\in \\mathcal{S}, r\\in\\mathcal{R}}p(s',r|s,a)(r + \\gamma v_\\pi(s'))$"
   ]
  },
  {
   "cell_type": "code",
   "execution_count": 14,
   "metadata": {},
   "outputs": [
    {
     "name": "stdout",
     "output_type": "stream",
     "text": [
      "Reward Grid\n",
      "\n",
      "----------\n",
      "0 |-5 |5 |\n",
      "----------\n",
      "0 |0 |0 |\n",
      "----------\n",
      "0 |0 |0 |\n",
      "\n",
      "Policy: Reach Goal ASAP\n",
      "\n",
      "----------\n",
      "R |R |U |\n",
      "----------\n",
      "R |R |U |\n",
      "----------\n",
      "R |U |U |"
     ]
    }
   ],
   "source": [
    "#deterministic env\n",
    "env = Gridworld(wind_p=0.)\n",
    "policy = {(0, 0): 3,\n",
    "          (0, 1): 3,\n",
    "          (0, 2): 0,\n",
    "          (1, 0): 3,\n",
    "          (1, 1): 3,\n",
    "          (1, 2): 0,\n",
    "          (2, 0): 3,\n",
    "          (2, 1): 0,\n",
    "          (2, 2): 0}\n",
    "a = MCAgent(env,policy = policy, gamma = 1)\n",
    "print('Reward Grid')\n",
    "env.print_reward()\n",
    "print('\\n')\n",
    "print('Policy: Reach Goal ASAP')\n",
    "a.print_policy()"
   ]
  },
  {
   "cell_type": "code",
   "execution_count": 15,
   "metadata": {},
   "outputs": [
    {
     "name": "stdout",
     "output_type": "stream",
     "text": [
      "\n",
      "---------------\n",
      "-2 |4 |-1 |\n",
      "---------------\n",
      "2 |3 |4 |\n",
      "---------------\n",
      "1 |2 |3 |"
     ]
    }
   ],
   "source": [
    "for state in env.state_space:\n",
    "    a.v[state] = a.get_v(start_state=state, epsilon=0.)\n",
    "a.print_v()"
   ]
  },
  {
   "cell_type": "code",
   "execution_count": 16,
   "metadata": {},
   "outputs": [
    {
     "name": "stdout",
     "output_type": "stream",
     "text": [
      "\n",
      "---------------\n",
      "-4.0 |4.0 |-1.0 |\n",
      "---------------\n",
      "-0.5 |1.0 |4.0 |\n",
      "---------------\n",
      "-1.2 |-0.5 |1.0 |"
     ]
    }
   ],
   "source": [
    "a.gamma = 0.5\n",
    "for state in env.state_space:\n",
    "    a.v[state] = a.get_v(start_state=state, epsilon=0.)\n",
    "a.print_v()"
   ]
  },
  {
   "cell_type": "markdown",
   "metadata": {},
   "source": [
    "### (State-)Action Value"
   ]
  },
  {
   "cell_type": "markdown",
   "metadata": {},
   "source": [
    "$q_\\pi(s,a) = \\sum_{s' \\in \\mathcal{S}, r\\in\\mathcal{R}}p(s',r|s,a)(r + \\gamma\\sum_{a' \\in \\mathcal{A}(s')} \\pi(a'|s') q_\\pi(s',a'))$"
   ]
  },
  {
   "cell_type": "code",
   "execution_count": 17,
   "metadata": {},
   "outputs": [
    {
     "name": "stdout",
     "output_type": "stream",
     "text": [
      "Reward Grid\n",
      "\n",
      "----------\n",
      "0 |-5 |5 |\n",
      "----------\n",
      "0 |0 |0 |\n",
      "----------\n",
      "0 |0 |0 |\n",
      "\n",
      "Policy: Reach Goal ASAP\n",
      "\n",
      "----------\n",
      "R |R |U |\n",
      "----------\n",
      "R |R |U |\n",
      "----------\n",
      "R |U |U |\n",
      "Actions: ['U' 'L' 'D' 'R']\n",
      "(0, 0) [-3. -3.  1. -2.]\n",
      "(0, 1) [ 3. -3.  2.  4.]\n",
      "(0, 2) [-1. -2.  3. -1.]\n",
      "(1, 0) [-3.  1.  0.  2.]\n",
      "(1, 1) [-2.  1.  1.  3.]\n",
      "(1, 2) [4. 2. 2. 3.]\n",
      "(2, 0) [1. 0. 0. 1.]\n",
      "(2, 1) [2. 0. 1. 2.]\n",
      "(2, 2) [3. 1. 2. 2.]\n"
     ]
    }
   ],
   "source": [
    "print('Reward Grid')\n",
    "env.print_reward()\n",
    "print('\\n')\n",
    "print('Policy: Reach Goal ASAP')\n",
    "a.print_policy()\n",
    "\n",
    "a.gamma=1\n",
    "for state in env.state_space:\n",
    "    for action in env.action_space:\n",
    "        a.q[state][action] = a.get_q(state,action,epsilon=0.)\n",
    "\n",
    "print(f'\\nActions: {env.action_text}')\n",
    "for i in a.q: print(i,a.q[i])"
   ]
  },
  {
   "cell_type": "markdown",
   "metadata": {},
   "source": [
    "### Comparing Policies"
   ]
  },
  {
   "cell_type": "markdown",
   "metadata": {},
   "source": [
    "When comparing two policies a and b:\n",
    "\n",
    "$\\pi_a > \\pi_b$ if and only if $v_{\\pi_a}(s) > v_{\\pi_b}(s)$ for all $s \\in \\mathcal{S}$\n",
    "\n",
    "An optimal policy $\\pi^*$ is defined as:\n",
    "\n",
    "$\\pi^* > \\pi$ for all $\\pi$\n",
    "\n",
    "We can also find an optimal policy from action value function as choosing the action with the highest q-value out of any action in that state:\n",
    "\n",
    "$\\pi^*(s) = argmax_{a \\in \\mathcal{A}}q^*(s,a)$"
   ]
  },
  {
   "cell_type": "code",
   "execution_count": 18,
   "metadata": {},
   "outputs": [
    {
     "name": "stdout",
     "output_type": "stream",
     "text": [
      "Policy A: Reach Goal ASAP\n",
      "\n",
      "----------\n",
      "R |R |U |\n",
      "----------\n",
      "R |R |U |\n",
      "----------\n",
      "R |U |U |\n",
      "---------------\n",
      "-2.4 |4.0 |-1.0 |\n",
      "---------------\n",
      "1.3 |2.6 |4.0 |\n",
      "---------------\n",
      "0.2 |1.3 |2.6 |\n",
      "\n",
      "Policy B: Avoid Trap\n",
      "\n",
      "----------\n",
      "D |R |U |\n",
      "----------\n",
      "D |D |U |\n",
      "----------\n",
      "R |R |U |\n",
      "---------------\n",
      "-1.7 |4.0 |-1.0 |\n",
      "---------------\n",
      "-0.8 |0.2 |4.0 |\n",
      "---------------\n",
      "0.2 |1.3 |2.6 |"
     ]
    }
   ],
   "source": [
    "#deterministic env\n",
    "env = Gridworld(wind_p=0.)\n",
    "#deterministic policy\n",
    "policy_a = {(0, 0): 3,\n",
    "          (0, 1): 3,\n",
    "          (0, 2): 0,\n",
    "          (1, 0): 3,\n",
    "          (1, 1): 3,\n",
    "          (1, 2): 0,\n",
    "          (2, 0): 3,\n",
    "          (2, 1): 0,\n",
    "          (2, 2): 0}\n",
    "policy_b = {(0, 0): 2,\n",
    "          (0, 1): 3,\n",
    "          (0, 2): 0,\n",
    "          (1, 0): 2,\n",
    "          (1, 1): 2,\n",
    "          (1, 2): 0,\n",
    "          (2, 0): 3,\n",
    "          (2, 1): 3,\n",
    "          (2, 2): 0}\n",
    "\n",
    "a = MCAgent(env,policy_a)\n",
    "print('Policy A: Reach Goal ASAP')\n",
    "a.print_policy()\n",
    "for state in env.state_space:\n",
    "    a.v[state] = a.get_v(start_state=state, epsilon=0.)\n",
    "a.print_v()\n",
    "print('\\n')\n",
    "print('Policy B: Avoid Trap')\n",
    "a.policy = policy_b\n",
    "a.print_policy()\n",
    "for state in env.state_space:\n",
    "    a.v[state] = a.get_v(start_state=state, epsilon=0.)\n",
    "a.print_v()"
   ]
  },
  {
   "cell_type": "markdown",
   "metadata": {},
   "source": [
    "## Solving Reinforcement Learning Problems - Monte Carlo Methods"
   ]
  },
  {
   "cell_type": "markdown",
   "metadata": {},
   "source": [
    "There are two main approaches in solving reinforcement learning: **model-based** and **model-free** approaches. A model-based approach assumes that we have some or full knowledge of how our environment works whereas a model-free approach relies on our agent to explore the environment without any prior knowledge. \n",
    "\n",
    "In this workshop, we will focus on model-free approaches which usually involves two steps: evalulating the state or action value function based on the agent's interactions with the environment also known as **prediction problem** and changing the agent's policy to be closer to an optimal policy also known as **control problem**.\n",
    "\n",
    "We start with the Monte Carlo Methods aka the trial-and-error-until-you-get-rich-or-broke methods."
   ]
  },
  {
   "cell_type": "markdown",
   "metadata": {},
   "source": [
    "![Monte Carlo](img/monte_carlo.jpg)"
   ]
  },
  {
   "cell_type": "markdown",
   "metadata": {},
   "source": [
    "### Prediction Problem"
   ]
  },
  {
   "cell_type": "code",
   "execution_count": 19,
   "metadata": {},
   "outputs": [
    {
     "name": "stdout",
     "output_type": "stream",
     "text": [
      "Reward Grid\n",
      "\n",
      "----------\n",
      "0 |-5 |5 |\n",
      "----------\n",
      "0 |0 |0 |\n",
      "----------\n",
      "0 |0 |0 |\n",
      "\n",
      "Policy: Reach Goal ASAP\n",
      "\n",
      "----------\n",
      "R |R |U |\n",
      "----------\n",
      "R |R |U |\n",
      "----------\n",
      "R |U |U |"
     ]
    }
   ],
   "source": [
    "#stochastic environment\n",
    "env = Gridworld(wind_p=0.2)\n",
    "\n",
    "#initial policy\n",
    "policy = {(0, 0): 3,\n",
    "          (0, 1): 3,\n",
    "          (0, 2): 0,\n",
    "          (1, 0): 3,\n",
    "          (1, 1): 3,\n",
    "          (1, 2): 0,\n",
    "          (2, 0): 3,\n",
    "          (2, 1): 0,\n",
    "          (2, 2): 0}\n",
    "\n",
    "#stochastic agent - epsilon greedy with decays\n",
    "a = MCAgent(env, policy = policy, gamma = 0.9, \n",
    "            start_epsilon=0.9,end_epsilon=0.3,epsilon_decay=0.9)\n",
    "\n",
    "print('Reward Grid')\n",
    "env.print_reward()\n",
    "print('\\n')\n",
    "print('Policy: Reach Goal ASAP')\n",
    "a.print_policy()"
   ]
  },
  {
   "cell_type": "markdown",
   "metadata": {},
   "source": [
    "#### Monte Carlo State Value Prediction"
   ]
  },
  {
   "cell_type": "markdown",
   "metadata": {},
   "source": [
    "![Monte Carlo State Value Prediction](img/mc_predict_v.png)"
   ]
  },
  {
   "cell_type": "code",
   "execution_count": 20,
   "metadata": {},
   "outputs": [
    {
     "name": "stdout",
     "output_type": "stream",
     "text": [
      "\n",
      "---------------\n",
      "-3.3 |2.5 |0 |\n",
      "---------------\n",
      "-1.2 |0.6 |2.8 |\n",
      "---------------\n",
      "-1.4 |-0.7 |1.2 |"
     ]
    }
   ],
   "source": [
    "a.mc_predict_v()\n",
    "a.print_v()"
   ]
  },
  {
   "cell_type": "markdown",
   "metadata": {},
   "source": [
    "#### Monte Carlo Action Value Prediction"
   ]
  },
  {
   "cell_type": "markdown",
   "metadata": {},
   "source": [
    "![Monte Carlo Action Value Prediction](img/mc_predict_q.png)"
   ]
  },
  {
   "cell_type": "code",
   "execution_count": 21,
   "metadata": {},
   "outputs": [
    {
     "name": "stdout",
     "output_type": "stream",
     "text": [
      "\n",
      "Actions: ['U' 'L' 'D' 'R']\n",
      "(0, 0) [-3.92548758 -4.11265256 -2.09818114 -3.27472949]\n",
      "(0, 1) [ 1.23316346 -4.07657872 -0.7245718   3.47291504]\n",
      "(1, 0) [-3.65186239 -2.07331857 -2.42338147 -0.72149185]\n",
      "(1, 1) [-3.55635392 -2.273299   -1.81391399  1.46802589]\n",
      "(1, 2) [ 3.4385516  -0.64145616 -0.22891006  1.32940233]\n",
      "(2, 1) [-0.81333759 -2.59115437 -1.46346686 -0.21450956]\n",
      "(2, 0) [-1.53787056 -2.94343391 -2.12261564 -1.72119519]\n",
      "(2, 2) [ 1.28060256 -1.41310582 -0.2860777  -1.81328304]\n",
      "(0, 2) [0. 0. 0. 0.]\n"
     ]
    }
   ],
   "source": [
    "a.mc_predict_q(first_visit=False)\n",
    "print(f'\\nActions: {env.action_text}')\n",
    "for i in a.q: print(i,a.q[i])"
   ]
  },
  {
   "cell_type": "markdown",
   "metadata": {},
   "source": [
    "### Control Problem"
   ]
  },
  {
   "cell_type": "code",
   "execution_count": 22,
   "metadata": {},
   "outputs": [
    {
     "name": "stdout",
     "output_type": "stream",
     "text": [
      "Reward Grid\n",
      "\n",
      "----------\n",
      "0 |-5 |5 |\n",
      "----------\n",
      "0 |0 |0 |\n",
      "----------\n",
      "0 |0 |0 |\n",
      "\n",
      "Policy: Reach Goal ASAP\n",
      "\n",
      "----------\n",
      "R |R |U |\n",
      "----------\n",
      "R |R |U |\n",
      "----------\n",
      "R |U |U |"
     ]
    }
   ],
   "source": [
    "#stochastic environment\n",
    "env = Gridworld(wind_p=0.2)\n",
    "\n",
    "#initial policy\n",
    "policy = {(0, 0): 3,\n",
    "          (0, 1): 3,\n",
    "          (0, 2): 0,\n",
    "          (1, 0): 3,\n",
    "          (1, 1): 3,\n",
    "          (1, 2): 0,\n",
    "          (2, 0): 3,\n",
    "          (2, 1): 0,\n",
    "          (2, 2): 0}\n",
    "\n",
    "#stochastic agent - epsilon greedy with decays\n",
    "a = MCAgent(env, policy = policy, gamma = 0.9, \n",
    "            start_epsilon=0.9,end_epsilon=0.3,epsilon_decay=0.9)\n",
    "\n",
    "print('Reward Grid')\n",
    "env.print_reward()\n",
    "print('\\n')\n",
    "print('Policy: Reach Goal ASAP')\n",
    "a.print_policy()"
   ]
  },
  {
   "cell_type": "markdown",
   "metadata": {},
   "source": [
    "### All-visit Monte Carlo"
   ]
  },
  {
   "cell_type": "code",
   "execution_count": 23,
   "metadata": {},
   "outputs": [
    {
     "name": "stdout",
     "output_type": "stream",
     "text": [
      "\n",
      "----------\n",
      "D |R |U |\n",
      "----------\n",
      "R |R |U |\n",
      "----------\n",
      "U |R |U |\n",
      "Actions: ['U' 'L' 'D' 'R']\n",
      "(0, 0) [-4.27943992 -4.1694849  -1.82026869 -3.46063774]\n",
      "(0, 1) [ 0.72613205 -3.75420578 -1.08463263  3.33063217]\n",
      "(1, 0) [-5.27368466 -3.87197983 -2.82267803 -0.38238763]\n",
      "(2, 0) [-1.819      -3.88739917 -2.284264   -2.85094324]\n",
      "(1, 1) [-2.736567   -1.71104392 -0.83779866  1.16551644]\n",
      "(2, 1) [-0.27713217 -3.3598306  -1.56047681  1.1132    ]\n",
      "(2, 2) [ 1.98411 -0.1342  -0.8146   1.382  ]\n",
      "(1, 2) [ 3.28297101 -0.69254731  0.14711652  0.47764164]\n",
      "(0, 2) [0. 0. 0. 0.]\n"
     ]
    }
   ],
   "source": [
    "#reset\n",
    "a.policy = policy\n",
    "a.q = defaultdict(lambda: np.zeros(a.n_action))\n",
    "a.n_q = defaultdict(lambda: np.zeros(a.n_action))\n",
    "\n",
    "a.mc_control_q(n_episode = 1000,first_visit=False)\n",
    "a.print_policy()\n",
    "print(f'\\nActions: {env.action_text}')\n",
    "for i in a.q: print(i,a.q[i])"
   ]
  },
  {
   "cell_type": "markdown",
   "metadata": {},
   "source": [
    "#### First-visit Monte Carlo"
   ]
  },
  {
   "cell_type": "code",
   "execution_count": 24,
   "metadata": {},
   "outputs": [
    {
     "name": "stdout",
     "output_type": "stream",
     "text": [
      "\n",
      "----------\n",
      "D |R |U |\n",
      "----------\n",
      "R |R |U |\n",
      "----------\n",
      "R |R |U |\n",
      "Actions: ['U' 'L' 'D' 'R']\n",
      "(0, 0) [-3.2318982  -3.47624847 -2.09759588 -4.0182079 ]\n",
      "(1, 0) [-3.32075267 -2.05323159 -2.96992952 -0.73489268]\n",
      "(0, 1) [ 0.95185514 -3.29976464 -0.13602162  3.41909399]\n",
      "(1, 1) [-3.38040113 -2.06830689 -1.8638852   1.36671122]\n",
      "(1, 2) [ 3.30167142 -0.44401267  0.00600392  1.28666622]\n",
      "(2, 1) [-1.48348326 -3.59143396 -2.35621499 -0.56584758]\n",
      "(2, 0) [-2.15350849 -2.24515034 -3.99656203 -1.88593353]\n",
      "(2, 2) [ 1.08291197 -1.42388726 -0.17114539 -0.90637   ]\n",
      "(0, 2) [0. 0. 0. 0.]\n"
     ]
    }
   ],
   "source": [
    "#reset\n",
    "a.policy = policy\n",
    "a.q = defaultdict(lambda: np.zeros(a.n_action))\n",
    "a.n_q = defaultdict(lambda: np.zeros(a.n_action))\n",
    "\n",
    "a.mc_control_q(n_episode = 1000,first_visit=True)\n",
    "a.print_policy()\n",
    "print(f'\\nActions: {env.action_text}')\n",
    "for i in a.q: print(i,a.q[i])"
   ]
  },
  {
   "cell_type": "markdown",
   "metadata": {},
   "source": [
    "#### Greedy within The Limit of Exploration "
   ]
  },
  {
   "cell_type": "markdown",
   "metadata": {},
   "source": [
    "![Greedy within The Limit of Exploration](img/mc_control_glie.png)"
   ]
  },
  {
   "cell_type": "code",
   "execution_count": 25,
   "metadata": {},
   "outputs": [
    {
     "name": "stdout",
     "output_type": "stream",
     "text": [
      "\n",
      "----------\n",
      "D |R |U |\n",
      "----------\n",
      "R |R |U |\n",
      "----------\n",
      "R |R |U |\n",
      "Actions: ['U' 'L' 'D' 'R']\n",
      "(0, 0) [-3.30292981 -3.25992486 -1.86843291 -3.14312549]\n",
      "(0, 1) [ 1.7194625  -2.70555105  0.22145442  3.34531047]\n",
      "(0, 2) [0. 0. 0. 0.]\n",
      "(1, 0) [-3.19959762 -2.23694056 -2.68500401 -0.4625063 ]\n",
      "(1, 1) [-3.50788219 -2.01663073 -1.25375229  1.45030324]\n",
      "(1, 2) [ 3.53148384 -0.48600386  0.14555885  1.41663129]\n",
      "(2, 0) [-2.59606855 -2.54412744 -3.06966766 -1.33786136]\n",
      "(2, 1) [-1.16641857 -2.72133419 -1.94436006 -0.15517614]\n",
      "(2, 2) [ 1.52923063e+00 -1.29125683e+00 -3.30688882e-01 -8.32294728e-04]\n"
     ]
    }
   ],
   "source": [
    "#reset\n",
    "a.policy = policy\n",
    "a.q = defaultdict(lambda: np.zeros(a.n_action))\n",
    "a.n_q = defaultdict(lambda: np.zeros(a.n_action))\n",
    "\n",
    "a.mc_control_glie(n_episode = 1000)\n",
    "a.print_policy()\n",
    "print(f'\\nActions: {env.action_text}')\n",
    "for i in a.q: print(i,a.q[i])"
   ]
  },
  {
   "cell_type": "markdown",
   "metadata": {},
   "source": [
    "#### GLIE with Constant Learning Rate"
   ]
  },
  {
   "cell_type": "markdown",
   "metadata": {},
   "source": [
    "![GLIE with constant learning rate](img/mc_control_glie_constant.png)"
   ]
  },
  {
   "cell_type": "code",
   "execution_count": 26,
   "metadata": {},
   "outputs": [
    {
     "name": "stdout",
     "output_type": "stream",
     "text": [
      "\n",
      "----------\n",
      "D |R |U |\n",
      "----------\n",
      "R |R |U |\n",
      "----------\n",
      "R |R |U |\n",
      "Actions: ['U' 'L' 'D' 'R']\n",
      "(0, 0) [-3.88867934 -3.93522798 -2.27093115 -3.46644497]\n",
      "(0, 1) [ 0.91693494 -3.35356981  0.20819916  3.64295331]\n",
      "(0, 2) [0. 0. 0. 0.]\n",
      "(1, 0) [-3.50044857 -2.58718687 -2.12838722 -1.23485409]\n",
      "(1, 1) [-2.71399151 -1.33847698 -1.38454913  1.41876372]\n",
      "(1, 2) [ 3.29462048 -0.47355178  0.27500137  1.98788302]\n",
      "(2, 0) [-3.30801607 -2.58012599 -2.56456827 -0.967357  ]\n",
      "(2, 1) [-0.82280348 -2.11157697 -1.2067364   0.34774965]\n",
      "(2, 2) [ 1.83368481 -1.30583741 -0.42572958  0.23465617]\n"
     ]
    }
   ],
   "source": [
    "#reset\n",
    "a.policy = policy\n",
    "a.q = defaultdict(lambda: np.zeros(a.n_action))\n",
    "a.n_q = defaultdict(lambda: np.zeros(a.n_action))\n",
    "\n",
    "a.mc_control_glie(n_episode = 1000, lr=0.1)\n",
    "a.print_policy()\n",
    "print(f'\\nActions: {env.action_text}')\n",
    "for i in a.q: print(i,a.q[i])"
   ]
  },
  {
   "cell_type": "markdown",
   "metadata": {},
   "source": [
    "## Challenges"
   ]
  },
  {
   "cell_type": "markdown",
   "metadata": {},
   "source": [
    "* What are some other ways of solving reinforcement learning problems? How are they better or worse than Monte Carlo methods e.g. performance, data requirements, etc.?\n",
    "* Play around with Gridworld. Tweak these variables and see what happens:\n",
    "    * Wing probability\n",
    "    * Move rewards\n",
    "    * Discount factor\n",
    "    * Epsilon and how to decay it (or not)\n",
    "* Solve at least one of the following OpenAI gym environments with discrete states and actions:\n",
    "    * FrozenLake-v0\n",
    "    * Taxi-v2\n",
    "    * Blackjack-v0"
   ]
  }
 ],
 "metadata": {
  "kernelspec": {
   "display_name": "Python 3",
   "language": "python",
   "name": "python3"
  },
  "language_info": {
   "codemirror_mode": {
    "name": "ipython",
    "version": 3
   },
   "file_extension": ".py",
   "mimetype": "text/x-python",
   "name": "python",
   "nbconvert_exporter": "python",
   "pygments_lexer": "ipython3",
   "version": "3.6.5"
  }
 },
 "nbformat": 4,
 "nbformat_minor": 2
}
