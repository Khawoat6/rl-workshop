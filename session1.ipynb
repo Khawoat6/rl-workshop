{
 "cells": [
  {
   "cell_type": "markdown",
   "metadata": {},
   "source": [
    "# Session 1: Discrete States and Discrete Actions"
   ]
  },
  {
   "cell_type": "markdown",
   "metadata": {},
   "source": [
    "## Imports"
   ]
  },
  {
   "cell_type": "code",
   "execution_count": 335,
   "metadata": {},
   "outputs": [],
   "source": [
    "import numpy as np"
   ]
  },
  {
   "cell_type": "markdown",
   "metadata": {},
   "source": [
    "## Gridworld"
   ]
  },
  {
   "cell_type": "markdown",
   "metadata": {},
   "source": [
    "### Environment"
   ]
  },
  {
   "cell_type": "code",
   "execution_count": 336,
   "metadata": {},
   "outputs": [],
   "source": [
    "class Gridworld:\n",
    "    def __init__(self, sz = (3,3), start = (0,0), goal = (0,2), traps = [(0,1)],\n",
    "                 goal_reward = 5, trap_reward = -3, move_reward = -1):\n",
    "        self.sz = sz\n",
    "        self.action_space = ['up','left','down','right']\n",
    "        #create grids\n",
    "        self.grid_keys = [(i,j) for i in range(sz[0]) for j in range(sz[1])]\n",
    "        self.start =start\n",
    "        self.goal = goal\n",
    "        self.traps = traps\n",
    "        self.move_reward = move_reward\n",
    "        self.trap_reward = trap_reward\n",
    "        self.goal_reward = goal_reward\n",
    "        self.reset()\n",
    "        \n",
    "    def reset(self):\n",
    "        self.i = self.start[0]\n",
    "        self.j = self.start[1]\n",
    "        self.done = False\n",
    "        #physical grid\n",
    "        self.physical_grid = dict.fromkeys(self.grid_keys,['F','x'])\n",
    "        self.physical_grid[self.start] = ['F','o']\n",
    "        self.physical_grid[self.goal] = ['G','x']\n",
    "        for t in self.traps: self.physical_grid[t] = ['T','x']\n",
    "        #reward grid\n",
    "        self.reward_grid = dict.fromkeys(self.grid_keys,0)\n",
    "        self.reward_grid[self.goal] = self.goal_reward\n",
    "        for t in self.traps: self.reward_grid[t] = self.trap_reward\n",
    "        return((self.i,self.j))\n",
    "        \n",
    "    def print_reward(self):\n",
    "        for i in range(self.sz[0]):\n",
    "            print('\\n----------')\n",
    "            for j in range(self.sz[1]):\n",
    "                print(f'{self.reward_grid[(i,j)]} |',end='')\n",
    "    def print_physical(self):\n",
    "        for i in range(self.sz[0]):\n",
    "            print('\\n------------------------------------')\n",
    "            for j in range(self.sz[1]):\n",
    "                print(f'{self.physical_grid[(i,j)]} |',end='')\n",
    "    def update_physical(self):\n",
    "        for key in self.grid_keys:\n",
    "            self.physical_grid[key][1] = 'x'\n",
    "        tile = self.physical_grid[(self.i,self.j)][0] \n",
    "        self.physical_grid[(self.i,self.j)] = [tile,'o']\n",
    "    def step(self,action):\n",
    "        reward = self.move_reward\n",
    "        i,j = self.i,self.j\n",
    "        if action == 'up':\n",
    "            i -= 1\n",
    "        elif action == 'left':\n",
    "            j -= 1\n",
    "        elif action == 'down':\n",
    "            i += 1\n",
    "        elif action == 'right':\n",
    "            j += 1\n",
    "        #check legality\n",
    "        if (i,j) in self.grid_keys:\n",
    "            #update position\n",
    "            self.i,self.j = i,j\n",
    "            #update physical\n",
    "            self.update_physical()\n",
    "            #update reward\n",
    "            reward += self.reward_grid[(i,j)]\n",
    "        else:\n",
    "            pass\n",
    "        if (self.i,self.j) == self.goal: self.done = True\n",
    "        #return s',r, done or not\n",
    "        return((self.i,self.j),reward,self.done)"
   ]
  },
  {
   "cell_type": "code",
   "execution_count": 337,
   "metadata": {},
   "outputs": [
    {
     "name": "stdout",
     "output_type": "stream",
     "text": [
      "\n",
      "------------------------------------\n",
      "['F', 'o'] |['T', 'x'] |['G', 'x'] |\n",
      "------------------------------------\n",
      "['F', 'x'] |['F', 'x'] |['F', 'x'] |\n",
      "------------------------------------\n",
      "['F', 'x'] |['F', 'x'] |['F', 'x'] |\n",
      "----------\n",
      "0 |-3 |5 |\n",
      "----------\n",
      "0 |0 |0 |\n",
      "----------\n",
      "0 |0 |0 |"
     ]
    }
   ],
   "source": [
    "g = Gridworld()\n",
    "g.print_physical()\n",
    "g.print_reward()"
   ]
  },
  {
   "cell_type": "code",
   "execution_count": 338,
   "metadata": {},
   "outputs": [
    {
     "name": "stdout",
     "output_type": "stream",
     "text": [
      "((0, 1), -4, False)\n",
      "((0, 2), 4, True)\n",
      "\n",
      "------------------------------------\n",
      "['F', 'x'] |['T', 'x'] |['G', 'o'] |\n",
      "------------------------------------\n",
      "['F', 'x'] |['F', 'x'] |['F', 'x'] |\n",
      "------------------------------------\n",
      "['F', 'x'] |['F', 'x'] |['F', 'x'] |"
     ]
    }
   ],
   "source": [
    "print(g.step('right'))\n",
    "print(g.step('right'))\n",
    "g.print_physical()"
   ]
  },
  {
   "cell_type": "code",
   "execution_count": 339,
   "metadata": {},
   "outputs": [
    {
     "data": {
      "text/plain": [
       "(0, 0)"
      ]
     },
     "execution_count": 339,
     "metadata": {},
     "output_type": "execute_result"
    }
   ],
   "source": [
    "g.reset()"
   ]
  },
  {
   "cell_type": "markdown",
   "metadata": {},
   "source": [
    "### Agent"
   ]
  },
  {
   "cell_type": "code",
   "execution_count": 340,
   "metadata": {},
   "outputs": [],
   "source": [
    "class Agent:\n",
    "    def __init__(self, env, policy, gamma = 1):\n",
    "        self.env = env\n",
    "        self.policy = policy\n",
    "        self.gamma = gamma\n",
    "        self.v = dict.fromkeys(self.env.grid_keys,0)\n",
    "    def select_action(self,state):\n",
    "        action = self.policy[state]\n",
    "        return(action)"
   ]
  },
  {
   "cell_type": "code",
   "execution_count": 348,
   "metadata": {},
   "outputs": [],
   "source": [
    "env = Gridworld()\n",
    "policy = {(0, 0): 'down',\n",
    "          (0, 1): 'right',\n",
    "          (0, 2): None,\n",
    "          (1, 0): 'right',\n",
    "          (1, 1): 'right',\n",
    "          (1, 2): 'up',\n",
    "          (2, 0): 'right',\n",
    "          (2, 1): 'up',\n",
    "          (2, 2): 'up'}\n",
    "a = Agent(env,policy,gamma=1)"
   ]
  },
  {
   "cell_type": "code",
   "execution_count": 349,
   "metadata": {},
   "outputs": [
    {
     "name": "stdout",
     "output_type": "stream",
     "text": [
      "\n",
      "------------------------------------\n",
      "['F', 'o'] |['T', 'x'] |['G', 'x'] |\n",
      "------------------------------------\n",
      "['F', 'x'] |['F', 'x'] |['F', 'x'] |\n",
      "------------------------------------\n",
      "['F', 'x'] |['F', 'x'] |['F', 'x'] |"
     ]
    }
   ],
   "source": [
    "a.env.print_physical()"
   ]
  },
  {
   "cell_type": "code",
   "execution_count": 350,
   "metadata": {},
   "outputs": [
    {
     "name": "stdout",
     "output_type": "stream",
     "text": [
      "(0, 0) (1, 0) -1 False\n",
      "(1, 0) (1, 1) -1 False\n",
      "(1, 1) (1, 2) -1 False\n",
      "(1, 2) (0, 2) 4 True\n"
     ]
    }
   ],
   "source": [
    "state = env.reset()\n",
    "while True:\n",
    "    old_state = state\n",
    "    state,reward,done = env.step(a.select_action(state))\n",
    "    print(old_state,state,reward,done)\n",
    "    if done: break"
   ]
  },
  {
   "cell_type": "code",
   "execution_count": null,
   "metadata": {},
   "outputs": [],
   "source": []
  },
  {
   "cell_type": "code",
   "execution_count": null,
   "metadata": {},
   "outputs": [],
   "source": []
  }
 ],
 "metadata": {
  "kernelspec": {
   "display_name": "Python 3",
   "language": "python",
   "name": "python3"
  },
  "language_info": {
   "codemirror_mode": {
    "name": "ipython",
    "version": 3
   },
   "file_extension": ".py",
   "mimetype": "text/x-python",
   "name": "python",
   "nbconvert_exporter": "python",
   "pygments_lexer": "ipython3",
   "version": "3.6.5"
  }
 },
 "nbformat": 4,
 "nbformat_minor": 2
}
