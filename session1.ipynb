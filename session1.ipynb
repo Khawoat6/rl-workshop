{
 "cells": [
  {
   "cell_type": "markdown",
   "metadata": {},
   "source": [
    "# Session 1: Discrete States and Discrete Actions"
   ]
  },
  {
   "cell_type": "markdown",
   "metadata": {},
   "source": [
    "## Imports"
   ]
  },
  {
   "cell_type": "code",
   "execution_count": 2,
   "metadata": {},
   "outputs": [],
   "source": [
    "import numpy as np"
   ]
  },
  {
   "cell_type": "markdown",
   "metadata": {},
   "source": [
    "## Gridworld"
   ]
  },
  {
   "cell_type": "code",
   "execution_count": 11,
   "metadata": {},
   "outputs": [],
   "source": [
    "class Gridworld:\n",
    "    def __init__(self, sz = (3,3), start = (0,0), goal = (0,2), traps = [(0,1)],\n",
    "                 goal_reward = 5, trap_reward = -3, move_reward = -1):\n",
    "        self.sz = sz\n",
    "        self.pos = start\n",
    "        self.action_space = ['up','left','down','right']\n",
    "        \n",
    "        #create grids\n",
    "        self.grid_keys = [(i,j) for i in range(sz[0]) for j in range(sz[1])]\n",
    "        #visible grid\n",
    "        self.visible_grid = dict.fromkeys(self.grid_keys,'F')\n",
    "        self.visible_grid[start] = 'A'\n",
    "        self.visible_grid[goal] = 'G'\n",
    "        for t in traps: self.visible_grid[t] = 'T'\n",
    "        #reward grid\n",
    "        self.reward_grid = dict.fromkeys(self.grid_keys,0)\n",
    "        self.reward_grid[goal] = goal_reward\n",
    "        for t in traps: self.reward_grid[t] = trap_reward\n",
    "    @static\n",
    "    def print_grid(g):\n",
    "        print('------------------------')\n",
    "        for i in range(self.sz[0]):\n",
    "            \n",
    "            for j in range(self.sz[1]):\n",
    "        print('------------------------')"
   ]
  },
  {
   "cell_type": "code",
   "execution_count": 12,
   "metadata": {},
   "outputs": [],
   "source": [
    "g = Gridworld()"
   ]
  },
  {
   "cell_type": "code",
   "execution_count": 14,
   "metadata": {},
   "outputs": [
    {
     "data": {
      "text/plain": [
       "{(0, 0): 0,\n",
       " (0, 1): -3,\n",
       " (0, 2): 5,\n",
       " (1, 0): 0,\n",
       " (1, 1): 0,\n",
       " (1, 2): 0,\n",
       " (2, 0): 0,\n",
       " (2, 1): 0,\n",
       " (2, 2): 0}"
      ]
     },
     "execution_count": 14,
     "metadata": {},
     "output_type": "execute_result"
    }
   ],
   "source": [
    "g.reward_grid"
   ]
  },
  {
   "cell_type": "code",
   "execution_count": null,
   "metadata": {},
   "outputs": [],
   "source": []
  }
 ],
 "metadata": {
  "kernelspec": {
   "display_name": "Python 3",
   "language": "python",
   "name": "python3"
  },
  "language_info": {
   "codemirror_mode": {
    "name": "ipython",
    "version": 3
   },
   "file_extension": ".py",
   "mimetype": "text/x-python",
   "name": "python",
   "nbconvert_exporter": "python",
   "pygments_lexer": "ipython3",
   "version": "3.6.5"
  }
 },
 "nbformat": 4,
 "nbformat_minor": 2
}
