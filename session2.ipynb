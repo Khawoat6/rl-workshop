{
 "cells": [
  {
   "cell_type": "markdown",
   "metadata": {},
   "source": [
    "# Session 2: Monte Carlo Methods"
   ]
  },
  {
   "cell_type": "markdown",
   "metadata": {},
   "source": [
    "## Colab Setup"
   ]
  },
  {
   "cell_type": "code",
   "execution_count": null,
   "metadata": {},
   "outputs": [],
   "source": [
    "#uncomment only if you're running from google colab\n",
    "# !git clone https://github.com/Datatouille/rl-workshop\n",
    "# !mv rl-workshop/* .\n",
    "# !ls"
   ]
  },
  {
   "cell_type": "markdown",
   "metadata": {},
   "source": [
    "## Imports"
   ]
  },
  {
   "cell_type": "code",
   "execution_count": 1,
   "metadata": {},
   "outputs": [],
   "source": [
    "import numpy as np\n",
    "from collections import defaultdict\n",
    "import matplotlib.pyplot as plt\n",
    "#cross check with our solutions once you finish\n",
    "from solutions.agents import MCAgent\n",
    "from solutions.environments import Gridworld"
   ]
  },
  {
   "cell_type": "markdown",
   "metadata": {},
   "source": [
    "## Fill in The Code"
   ]
  },
  {
   "cell_type": "code",
   "execution_count": null,
   "metadata": {},
   "outputs": [],
   "source": [
    "# import numpy as np\n",
    "# from collections import defaultdict\n",
    "# import sys\n",
    "\n",
    "# \"\"\"\n",
    "# Coding assignment order:\n",
    "# 1. get_v\n",
    "# 2. get_q\n",
    "# 3. mc_control_q\n",
    "# 4. mc_control_glie\n",
    "# \"\"\"\n",
    "\n",
    "# class MCAgent:\n",
    "#     def __init__(self, env, policy, gamma = 0.9, \n",
    "#                  start_epsilon = 0.9, end_epsilon = 0.1, epsilon_decay = 0.9):\n",
    "#         self.env = env\n",
    "#         self.n_action = len(self.env.action_space)\n",
    "#         self.policy = policy\n",
    "#         self.gamma = gamma\n",
    "#         self.v = dict.fromkeys(self.env.state_space,0)\n",
    "#         self.n_v = dict.fromkeys(self.env.state_space,0)\n",
    "#         self.q = defaultdict(lambda: np.zeros(self.n_action))\n",
    "#         self.n_q = defaultdict(lambda: np.zeros(self.n_action))\n",
    "#         self.start_epsilon = start_epsilon\n",
    "#         self.end_epsilon = end_epsilon\n",
    "#         self.epsilon_decay = epsilon_decay\n",
    "#     def get_epsilon(self,n_episode):\n",
    "#         epsilon = max(self.start_epsilon * (self.epsilon_decay**n_episode),self.end_epsilon)\n",
    "#         return(epsilon)\n",
    "#     def get_v(self,start_state,epsilon = 0.):\n",
    "#         episode = self.run_episode(start_state,epsilon)\n",
    "#         \"\"\"\n",
    "#         Write the code to calculate the state value function of a state \n",
    "#         given a deterministic policy.\n",
    "#         \"\"\"\n",
    "#         v=0\n",
    "        \n",
    "#         return(v)\n",
    "#     def get_q(self, start_state, first_action, epsilon=0.):\n",
    "#         episode = self.run_episode(start_state,epsilon,first_action)\n",
    "#         \"\"\"\n",
    "#         Write the code to calculate the action function of a state \n",
    "#         given a deterministic policy.\n",
    "#         \"\"\"\n",
    "#         q=0\n",
    "#         return(q)\n",
    "#     def select_action(self,state,epsilon):\n",
    "#         probs = np.ones(self.n_action) * (epsilon / self.n_action)\n",
    "#         best_action = self.policy[state]\n",
    "#         probs[best_action] = 1 - epsilon + (epsilon / self.n_action)\n",
    "#         action = np.random.choice(np.arange(self.n_action),p=probs)\n",
    "#         return(action)\n",
    "#     def print_policy(self):\n",
    "#         for i in range(self.env.sz[0]):\n",
    "#             print('\\n----------')\n",
    "#             for j in range(self.env.sz[1]):\n",
    "#                 p=self.policy[(i,j)]\n",
    "#                 out = self.env.action_text[p]\n",
    "#                 print(f'{out} |',end='')\n",
    "#     def print_v(self, decimal = 1):\n",
    "#         for i in range(self.env.sz[0]):\n",
    "#             print('\\n---------------')\n",
    "#             for j in range(self.env.sz[1]):\n",
    "#                 out=np.round(self.v[(i,j)],decimal)\n",
    "#                 print(f'{out} |',end='')\n",
    "#     def run_episode(self, start, epsilon, first_action = None):\n",
    "#         result = []\n",
    "#         state = self.env.reset(start)\n",
    "#         #dictate first action to iterate q\n",
    "#         if first_action is not None:\n",
    "#             action = first_action\n",
    "#             next_state,reward,done = self.env.step(action)\n",
    "#             result.append((state,action,reward,next_state,done))\n",
    "#             state = next_state\n",
    "#             if done: return(result)\n",
    "#         while True:\n",
    "#             action = self.select_action(state,epsilon)\n",
    "#             next_state,reward,done = self.env.step(action)\n",
    "#             result.append((state,action,reward,next_state,done))\n",
    "#             state = next_state\n",
    "#             if done: break\n",
    "#         return(result)\n",
    "#     def update_policy_q(self):\n",
    "#         for state in self.env.state_space:\n",
    "#             self.policy[state] = np.argmax(self.q[state])\n",
    "#     def mc_predict_v(self,n_episode=10000,first_visit=True):\n",
    "#         for t in range(n_episode):\n",
    "#             traversed = []\n",
    "#             e = self.get_epsilon(t)\n",
    "#             transitions = self.run_episode(self.env.start,e)\n",
    "#             states,actions,rewards,next_states,dones = zip(*transitions)\n",
    "#             for i in range(len(transitions)):\n",
    "#                 if first_visit and (states[i] not in traversed):\n",
    "#                     traversed.append(states[i])\n",
    "#                     self.n_v[states[i]]+=1\n",
    "#                     discounts = np.array([self.gamma**j for j in range(len(transitions)+1)])\n",
    "#                     self.v[states[i]]+= sum(rewards[i:]*discounts[:-(1+i)])\n",
    "#         for state in self.env.state_space:\n",
    "#             if state != self.env.goal:\n",
    "#                 self.v[state] = self.v[state] / self.n_v[state]\n",
    "#             else:\n",
    "#                 self.v[state] = 0\n",
    "    \n",
    "#     def mc_predict_q(self,n_episode=10000,first_visit=True):\n",
    "#         for t in range(n_episode):\n",
    "#             traversed = []\n",
    "#             e = self.get_epsilon(t)\n",
    "#             transitions = self.run_episode(self.env.start,e)\n",
    "#             states,actions,rewards,next_states,dones = zip(*transitions)\n",
    "#             for i in range(len(transitions)):\n",
    "#                 if first_visit and ((states[i],actions[i]) not in traversed):\n",
    "#                     traversed.append((states[i],actions[i]))\n",
    "#                     self.n_q[states[i]][actions[i]]+=1\n",
    "#                     discounts = np.array([self.gamma**j for j in range(len(transitions)+1)])\n",
    "#                     self.q[states[i]][actions[i]]+= sum(rewards[i:]*discounts[:-(1+i)])\n",
    "#                 elif not first_visit:\n",
    "#                     self.n_q[states[i]][actions[i]]+=1\n",
    "#                     discounts = np.array([self.gamma**j for j in range(len(transitions)+1)])\n",
    "#                     self.q[states[i]][actions[i]]+= sum(rewards[i:]*discounts[:-(1+i)])\n",
    "\n",
    "#         #print(self.q,self.n_q)\n",
    "#         for state in self.env.state_space:\n",
    "#             for action in range(self.n_action):\n",
    "#                 if state != self.env.goal:\n",
    "#                     self.q[state][action] = self.q[state][action] / self.n_q[state][action]\n",
    "#                 else:\n",
    "#                     self.q[state][action] = 0\n",
    "        \n",
    "#     def mc_control_q(self,n_episode=10000,first_visit=True):\n",
    "#         \"\"\"\n",
    "#         Write the code to perform Monte Carlo Control\n",
    "#         Hint: You just need to do prediction then update the policy\n",
    "#         \"\"\"\n",
    "#         pass\n",
    "        \n",
    "#     def mc_control_glie(self,n_episode=10000,first_visit=True,lr=0.):\n",
    "#         \"\"\"\n",
    "#         Taking hints from the mc_predict_q and mc_control_q methods, write the code to\n",
    "#         perform GLIE Monte Carlo control.\n",
    "#         \"\"\"\n",
    "#         pass"
   ]
  },
  {
   "cell_type": "markdown",
   "metadata": {},
   "source": [
    "![RL Framework](img/rl_framework.png)\n",
    "Source: [Sutton and Barto](https://cdn.preterhuman.net/texts/science_and_technology/artificial_intelligence/Reinforcement%20Learning%20%20An%20Introduction%20-%20Richard%20S.%20Sutton%20,%20Andrew%20G.%20Barto.pdf)"
   ]
  },
  {
   "cell_type": "markdown",
   "metadata": {},
   "source": [
    "## Solving Reinforcement Learning Problems - Monte Carlo Methods"
   ]
  },
  {
   "cell_type": "markdown",
   "metadata": {},
   "source": [
    "There are two main approaches in solving reinforcement learning: **model-based** and **model-free** approaches. A model-based approach assumes that we have some or full knowledge of how our environment works whereas a model-free approach relies on our agent to explore the environment without any prior knowledge. \n",
    "\n",
    "In this workshop, we will focus on model-free approaches which usually involves two steps: evalulating the state or action value function based on the agent's interactions with the environment also known as **prediction problem** and changing the agent's policy to be closer to an optimal policy also known as **control problem**.\n",
    "\n",
    "We start with the Monte Carlo Methods aka the trial-and-error-until-you-get-rich-or-broke methods."
   ]
  },
  {
   "cell_type": "markdown",
   "metadata": {},
   "source": [
    "![Monte Carlo](img/monte_carlo.jpg)"
   ]
  },
  {
   "cell_type": "markdown",
   "metadata": {},
   "source": [
    "### Prediction Problem"
   ]
  },
  {
   "cell_type": "code",
   "execution_count": 2,
   "metadata": {},
   "outputs": [
    {
     "name": "stdout",
     "output_type": "stream",
     "text": [
      "Reward Grid\n",
      "\n",
      "----------\n",
      "0 |0 |0 |\n",
      "----------\n",
      "0 |-5 |5 |\n",
      "----------\n",
      "0 |0 |0 |\n",
      "\n",
      "Policy: Reach Goal ASAP\n",
      "\n",
      "----------\n",
      "R |R |D |\n",
      "----------\n",
      "R |R |U |\n",
      "----------\n",
      "R |U |U |"
     ]
    }
   ],
   "source": [
    "#stochastic environment\n",
    "env = Gridworld(wind_p=0.2)\n",
    "\n",
    "#initial policy\n",
    "policy = {(0, 0): 3,\n",
    "          (0, 1): 3,\n",
    "          (0, 2): 2,\n",
    "          (1, 0): 3,\n",
    "          (1, 1): 3,\n",
    "          (1, 2): 0,\n",
    "          (2, 0): 3,\n",
    "          (2, 1): 0,\n",
    "          (2, 2): 0}\n",
    "\n",
    "#stochastic agent - epsilon greedy with decays\n",
    "a = MCAgent(env, policy = policy, gamma = 0.9, \n",
    "            start_epsilon=0.9,end_epsilon=0.3,epsilon_decay=0.9)\n",
    "\n",
    "print('Reward Grid')\n",
    "env.print_reward()\n",
    "print('\\n')\n",
    "print('Policy: Reach Goal ASAP')\n",
    "a.print_policy()"
   ]
  },
  {
   "cell_type": "markdown",
   "metadata": {},
   "source": [
    "#### Monte Carlo State Value Prediction"
   ]
  },
  {
   "cell_type": "markdown",
   "metadata": {},
   "source": [
    "![Monte Carlo State Value Prediction](img/mc_predict_v.png)"
   ]
  },
  {
   "cell_type": "code",
   "execution_count": 3,
   "metadata": {},
   "outputs": [
    {
     "name": "stdout",
     "output_type": "stream",
     "text": [
      "\n",
      "---------------\n",
      "-1.0 |0.8 |2.7 |\n",
      "---------------\n",
      "-3.6 |1.9 |0 |\n",
      "---------------\n",
      "-3.9 |-3.4 |2.5 |"
     ]
    }
   ],
   "source": [
    "a.mc_predict_v()\n",
    "a.print_v()"
   ]
  },
  {
   "cell_type": "markdown",
   "metadata": {},
   "source": [
    "#### Monte Carlo Action Value Prediction"
   ]
  },
  {
   "cell_type": "markdown",
   "metadata": {},
   "source": [
    "![Monte Carlo Action Value Prediction](img/mc_predict_q.png)"
   ]
  },
  {
   "cell_type": "code",
   "execution_count": 4,
   "metadata": {},
   "outputs": [
    {
     "name": "stdout",
     "output_type": "stream",
     "text": [
      "\n",
      "Actions: ['U' 'L' 'D' 'R']\n",
      "(2, 0) [-4.22439754 -4.71053496 -4.56914673 -3.83200812]\n",
      "(0, 0) [-1.21149553 -1.55036833 -4.07535088 -0.43477837]\n",
      "(0, 1) [-0.59506385 -1.97565183 -3.54684278  1.36483998]\n",
      "(1, 0) [-1.80911499 -4.10394462 -4.51974484 -3.62873459]\n",
      "(1, 1) [-0.83446812 -4.14362083 -3.8548538   3.30284643]\n",
      "(2, 1) [-3.72587981 -4.22407659 -4.37450104  1.04162032]\n",
      "(0, 2) [ 1.07652167 -0.62900575  3.20047428  1.34862222]\n",
      "(2, 2) [ 3.31719125 -4.13110594  1.62764329  1.37645882]\n",
      "(1, 2) [0. 0. 0. 0.]\n"
     ]
    }
   ],
   "source": [
    "a.mc_predict_q(first_visit=False)\n",
    "print(f'\\nActions: {env.action_text}')\n",
    "for i in a.q: print(i,a.q[i])"
   ]
  },
  {
   "cell_type": "markdown",
   "metadata": {},
   "source": [
    "### Control Problem"
   ]
  },
  {
   "cell_type": "code",
   "execution_count": 5,
   "metadata": {},
   "outputs": [
    {
     "name": "stdout",
     "output_type": "stream",
     "text": [
      "Reward Grid\n",
      "\n",
      "----------\n",
      "0 |0 |0 |\n",
      "----------\n",
      "0 |-5 |5 |\n",
      "----------\n",
      "0 |0 |0 |\n",
      "\n",
      "Policy: Reach Goal ASAP\n",
      "\n",
      "----------\n",
      "R |R |D |\n",
      "----------\n",
      "R |R |U |\n",
      "----------\n",
      "R |U |U |"
     ]
    }
   ],
   "source": [
    "#stochastic environment\n",
    "env = Gridworld(wind_p=0.2)\n",
    "\n",
    "#initial policy\n",
    "policy = {(0, 0): 3,\n",
    "          (0, 1): 3,\n",
    "          (0, 2): 2,\n",
    "          (1, 0): 3,\n",
    "          (1, 1): 3,\n",
    "          (1, 2): 0,\n",
    "          (2, 0): 3,\n",
    "          (2, 1): 0,\n",
    "          (2, 2): 0}\n",
    "\n",
    "#stochastic agent - epsilon greedy with decays\n",
    "a = MCAgent(env, policy = policy, gamma = 0.9, \n",
    "            start_epsilon=0.9,end_epsilon=0.3,epsilon_decay=0.9)\n",
    "\n",
    "print('Reward Grid')\n",
    "env.print_reward()\n",
    "print('\\n')\n",
    "print('Policy: Reach Goal ASAP')\n",
    "a.print_policy()"
   ]
  },
  {
   "cell_type": "markdown",
   "metadata": {},
   "source": [
    "### All-visit Monte Carlo"
   ]
  },
  {
   "cell_type": "markdown",
   "metadata": {},
   "source": [
    "**Coding Assignment** Implement `mc_control_q` function of `agent.py` using either all-visit or first-visit Monte Carlo."
   ]
  },
  {
   "cell_type": "code",
   "execution_count": 7,
   "metadata": {},
   "outputs": [
    {
     "name": "stdout",
     "output_type": "stream",
     "text": [
      "\n",
      "----------\n",
      "R |R |D |\n",
      "----------\n",
      "D |R |U |\n",
      "----------\n",
      "R |R |U |\n",
      "Actions: ['U' 'L' 'D' 'R']\n",
      "(2, 0) [-5.54833772 -1.85349972 -2.08578787 -0.73771261]\n",
      "(1, 0) [-5.77592437 -6.59097517 -3.1292505  -5.7831827 ]\n",
      "(0, 0) [-6.7395438  -6.42969785 -5.79815642 -1.18062795]\n",
      "(0, 1) [-0.14403264 -7.28539313 -4.43318536  0.81095461]\n",
      "(1, 1) [-3.07408888 -6.44085182 -1.10066989  3.3215208 ]\n",
      "(0, 2) [ 2.285      -2.20036967  3.08081907  0.32828113]\n",
      "(2, 1) [-4.0082097  -2.7446078  -0.81432703  1.42648518]\n",
      "(2, 2) [ 3.29065298 -0.13140317  1.23347443  1.24559436]\n",
      "(1, 2) [0. 0. 0. 0.]\n"
     ]
    }
   ],
   "source": [
    "#reset\n",
    "a.policy = policy\n",
    "a.q = defaultdict(lambda: np.zeros(a.n_action))\n",
    "a.n_q = defaultdict(lambda: np.zeros(a.n_action))\n",
    "\n",
    "a.mc_control_q(n_episode = 1000,first_visit=False)\n",
    "a.print_policy()\n",
    "print(f'\\nActions: {env.action_text}')\n",
    "for i in a.q: print(i,a.q[i])"
   ]
  },
  {
   "cell_type": "markdown",
   "metadata": {},
   "source": [
    "#### First-visit Monte Carlo"
   ]
  },
  {
   "cell_type": "code",
   "execution_count": 9,
   "metadata": {},
   "outputs": [
    {
     "name": "stdout",
     "output_type": "stream",
     "text": [
      "\n",
      "----------\n",
      "R |R |D |\n",
      "----------\n",
      "D |R |U |\n",
      "----------\n",
      "R |R |U |\n",
      "Actions: ['U' 'L' 'D' 'R']\n",
      "(2, 0) [-5.7812204  -2.2699994  -2.74398497 -0.85362256]\n",
      "(2, 1) [-5.07340473 -2.43013695 -0.55785209  1.35426502]\n",
      "(1, 1) [-5.27900541 -5.67040714  0.58638074  3.36698426]\n",
      "(1, 0) [-6.30230831 -6.15461758 -2.17873572 -5.06438271]\n",
      "(2, 2) [ 3.22276835 -0.79378102  0.89892963  1.54103934]\n",
      "(0, 1) [-5.71977478 -5.94257766 -4.175052   -0.27523024]\n",
      "(0, 2) [ 0.6560261  -5.24084074  3.21791465 -3.73845459]\n",
      "(0, 0) [-5.9153525  -6.24478038 -6.15018493 -5.14217806]\n",
      "(1, 2) [0. 0. 0. 0.]\n"
     ]
    }
   ],
   "source": [
    "#reset\n",
    "a.policy = policy\n",
    "a.q = defaultdict(lambda: np.zeros(a.n_action))\n",
    "a.n_q = defaultdict(lambda: np.zeros(a.n_action))\n",
    "\n",
    "a.mc_control_q(n_episode = 1000,first_visit=True)\n",
    "a.print_policy()\n",
    "print(f'\\nActions: {env.action_text}')\n",
    "for i in a.q: print(i,a.q[i])"
   ]
  },
  {
   "cell_type": "markdown",
   "metadata": {},
   "source": [
    "#### Greedy within The Limit of Exploration "
   ]
  },
  {
   "cell_type": "markdown",
   "metadata": {},
   "source": [
    "![Greedy within The Limit of Exploration](img/mc_control_glie.png)"
   ]
  },
  {
   "cell_type": "markdown",
   "metadata": {},
   "source": [
    "**Coding Assignment** Implement `mc_control_glie` function of `agent.py`"
   ]
  },
  {
   "cell_type": "code",
   "execution_count": 11,
   "metadata": {},
   "outputs": [
    {
     "name": "stdout",
     "output_type": "stream",
     "text": [
      "\n",
      "----------\n",
      "R |R |D |\n",
      "----------\n",
      "D |R |U |\n",
      "----------\n",
      "R |R |U |\n",
      "Actions: ['U' 'L' 'D' 'R']\n",
      "(2, 0) [-2.95382854 -2.11975586 -2.02890926 -0.44634021]\n",
      "(0, 0) [ -7.80549118  -9.01441985 -19.89607641  -0.28830266]\n",
      "(0, 1) [-0.42184    -1.51044777 -6.307456    1.81574203]\n",
      "(0, 2) [ 0.6072434  -0.06370055  3.82953243  0.75726958]\n",
      "(1, 0) [-2.61118161 -2.22484694 -1.54050169 -3.65241881]\n",
      "(1, 1) [-1.7642455  -3.56930715 -0.6064638   3.3816412 ]\n",
      "(1, 2) [0. 0. 0. 0.]\n",
      "(2, 1) [-2.88671386 -1.69264483 -0.60669012  1.553508  ]\n",
      "(2, 2) [ 3.40147724 -0.26747147  1.68730766  1.50660898]\n"
     ]
    }
   ],
   "source": [
    "#reset\n",
    "a.policy = policy\n",
    "a.q = defaultdict(lambda: np.zeros(a.n_action))\n",
    "a.n_q = defaultdict(lambda: np.zeros(a.n_action))\n",
    "\n",
    "a.mc_control_glie(n_episode = 1000)\n",
    "a.print_policy()\n",
    "print(f'\\nActions: {env.action_text}')\n",
    "for i in a.q: print(i,a.q[i])"
   ]
  },
  {
   "cell_type": "markdown",
   "metadata": {},
   "source": [
    "#### GLIE with Constant Learning Rate"
   ]
  },
  {
   "cell_type": "markdown",
   "metadata": {},
   "source": [
    "![GLIE with constant learning rate](img/mc_control_glie_constant.png)"
   ]
  },
  {
   "cell_type": "code",
   "execution_count": 12,
   "metadata": {},
   "outputs": [
    {
     "name": "stdout",
     "output_type": "stream",
     "text": [
      "\n",
      "----------\n",
      "R |R |D |\n",
      "----------\n",
      "D |R |U |\n",
      "----------\n",
      "R |R |U |\n",
      "Actions: ['U' 'L' 'D' 'R']\n",
      "(2, 0) [-2.87203657 -2.58126939 -2.31964153 -1.80949397]\n",
      "(0, 0) [-2.11089394 -2.31134566 -3.19471733 -1.08518698]\n",
      "(0, 1) [-0.24222561 -2.27679431 -2.94693795  1.23517985]\n",
      "(0, 2) [ 0.23108981 -0.99888656  3.47545143 -0.71247279]\n",
      "(1, 0) [-3.14516001 -3.03619437 -2.16901959 -4.23461649]\n",
      "(1, 1) [-1.30635314 -3.58962232  0.11025162  2.68320716]\n",
      "(1, 2) [0. 0. 0. 0.]\n",
      "(2, 1) [-4.21192083 -2.66302766 -0.6495667   0.14668219]\n",
      "(2, 2) [ 2.6184096  -1.07123348  2.21696245  1.45197172]\n"
     ]
    }
   ],
   "source": [
    "#reset\n",
    "a.policy = policy\n",
    "a.q = defaultdict(lambda: np.zeros(a.n_action))\n",
    "a.n_q = defaultdict(lambda: np.zeros(a.n_action))\n",
    "\n",
    "a.mc_control_glie(n_episode = 1000, lr=0.1)\n",
    "a.print_policy()\n",
    "print(f'\\nActions: {env.action_text}')\n",
    "for i in a.q: print(i,a.q[i])"
   ]
  },
  {
   "cell_type": "markdown",
   "metadata": {},
   "source": [
    "## Challenges"
   ]
  },
  {
   "cell_type": "markdown",
   "metadata": {},
   "source": [
    "* What are some other ways of solving reinforcement learning problems? How are they better or worse than Monte Carlo methods e.g. performance, data requirements, etc.?\n",
    "* Solve at least one of the following OpenAI gym environments with discrete states and actions:\n",
    "    * FrozenLake-v0\n",
    "    * Taxi-v2\n",
    "    * Blackjack-v0"
   ]
  },
  {
   "cell_type": "code",
   "execution_count": null,
   "metadata": {},
   "outputs": [],
   "source": []
  }
 ],
 "metadata": {
  "kernelspec": {
   "display_name": "Python 3",
   "language": "python",
   "name": "python3"
  },
  "language_info": {
   "codemirror_mode": {
    "name": "ipython",
    "version": 3
   },
   "file_extension": ".py",
   "mimetype": "text/x-python",
   "name": "python",
   "nbconvert_exporter": "python",
   "pygments_lexer": "ipython3",
   "version": "3.6.5"
  }
 },
 "nbformat": 4,
 "nbformat_minor": 2
}
